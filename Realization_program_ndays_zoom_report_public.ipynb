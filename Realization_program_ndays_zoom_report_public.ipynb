{
  "nbformat": 4,
  "nbformat_minor": 0,
  "metadata": {
    "colab": {
      "name": "Realization_program_ndays_zoom_report_public.ipynb",
      "provenance": [],
      "collapsed_sections": [],
      "authorship_tag": "ABX9TyNyODULoqTV+omLmDrUiNL5",
      "include_colab_link": true
    },
    "kernelspec": {
      "name": "python3",
      "display_name": "Python 3"
    },
    "language_info": {
      "name": "python"
    }
  },
  "cells": [
    {
      "cell_type": "markdown",
      "metadata": {
        "id": "view-in-github",
        "colab_type": "text"
      },
      "source": [
        "<a href=\"https://colab.research.google.com/github/kgautam2103/zoom_participant_list_public/blob/main/Realization_program_ndays_zoom_report_public.ipynb\" target=\"_parent\"><img src=\"https://colab.research.google.com/assets/colab-badge.svg\" alt=\"Open In Colab\"/></a>"
      ]
    },
    {
      "cell_type": "code",
      "metadata": {
        "id": "nPlc9kjAZDnR"
      },
      "source": [
        "# when you run this code, you will get a link below\n",
        "#Follow the link, copy the code, paste it in the box and then press Enter on the keyboard.\n",
        "#This will authenticate you and will allow you to interact with Google Sheets and other Google apps in your notebook.\n",
        "from google.colab import auth\n",
        "auth.authenticate_user()\n",
        "import gspread\n",
        "from oauth2client.client import GoogleCredentials\n",
        "gc = gspread.authorize(GoogleCredentials.get_application_default())"
      ],
      "execution_count": null,
      "outputs": []
    },
    {
      "cell_type": "code",
      "metadata": {
        "colab": {
          "base_uri": "https://localhost:8080/"
        },
        "id": "lLFgxXB7ZHlT",
        "outputId": "cdb4b0ab-043d-4675-bfd9-170a0a26370c"
      },
      "source": [
        "from google.colab import drive\n",
        "drive.mount(\"mnt\",force_remount=True)\n",
        "%run '/content/mnt/MyDrive/Colab Notebooks/zoom_participant_list_utility_functions.ipynb'\n"
      ],
      "execution_count": null,
      "outputs": [
        {
          "output_type": "stream",
          "name": "stdout",
          "text": [
            "Mounted at mnt\n"
          ]
        }
      ]
    },
    {
      "cell_type": "code",
      "metadata": {
        "id": "skvB4pFpZJoA"
      },
      "source": [
        "import requests\n",
        "import random\n",
        "import json\n",
        "import pandas as pd\n",
        "import numpy as np\n",
        "from datetime import datetime,timedelta\n",
        "import gspread\n",
        "import re\n",
        "from pandas import ExcelWriter\n",
        "from google.colab import files\n",
        "#from gspread_dataframe import set_with_dataframe\n",
        "from pandas import json_normalize\n",
        "from urllib.parse import urlencode\n",
        "#!pip install python-Levenshtein\n",
        "#!pip install fuzzywuzzy\n",
        "#from fuzzywuzzy import process\n",
        "!pip install gspread-pandas\n",
        "from gspread_pandas import Spread, Client\n"
      ],
      "execution_count": null,
      "outputs": []
    },
    {
      "cell_type": "code",
      "source": [
        "report_date= input(\"enter the report datetime(UTC) like 2021-07-11T02 : \")\n",
        "report_datetime = report_date[:-3]\n",
        "event_name = input(\"enter the event name like CHN_Day_1 : \")\n",
        "\n",
        "meetingID = '9181716151'\n",
        "page_size ='300'\n",
        "base_url = 'https://api.zoom.us/v2/'\n",
        "past_meetings = base_url+'/past_meetings/'\n",
        "\n",
        "\n",
        "#to get result for the last held meeting\n",
        "report_meetings = base_url+'report/meetings/'\n",
        "get_meeting_url = report_meetings+meetingID\n",
        "\n",
        "get_meeting_url = past_meetings+meetingID+'/instances'\n",
        "get_user_url = base_url+'users/'\n",
        "\n",
        "#auth token for zoom account admin user\n",
        "auth_token = ''\n",
        "\n",
        "authorization = 'Bearer ' + auth_token\n",
        "auth_headers = {\n",
        "    'Authorization': authorization,\n",
        "    'Content-Type': 'application/json'\n",
        "    }\n",
        "\n",
        "meeting_id_response = requests.get(get_meeting_url,headers=auth_headers)\n",
        "\n",
        "\n",
        "if meeting_id_response.status_code == 200:\n",
        "\n",
        "  for x in meeting_id_response.json()['meetings']:\n",
        "    if report_date in str(x['start_time']):\n",
        "      meeting_uid = str(x['uuid'])\n",
        "      print(x)"
      ],
      "metadata": {
        "colab": {
          "base_uri": "https://localhost:8080/"
        },
        "id": "BHk7htKSbq2b",
        "outputId": "f86c13c0-59bc-4450-fa5d-12e4a4047d6f"
      },
      "execution_count": null,
      "outputs": [
        {
          "output_type": "stream",
          "name": "stdout",
          "text": [
            "enter the report datetime(UTC) like 2021-07-11T02 : 2022-01-12T11\n",
            "enter the event name like CHN_Day_1 : CHN_Day_2\n",
            "{'uuid': 'bzServAwRduBzBSS9TalCg==', 'start_time': '2022-01-12T11:52:04Z'}\n"
          ]
        }
      ]
    },
    {
      "cell_type": "code",
      "source": [
        "wb = gc.open_by_url('https://docs.google.com/spreadsheets/d/17qtqgcYSLrlOs3YA0Lzn_Fk710PFL9qUO1wtdyBoCpo/')\n",
        "\n",
        "worksheet = wb.add_worksheet(title=event_name, rows=\"1000\", cols=\"20\")\n",
        "\n",
        "combined_sheet = wb.worksheet(\"Combined\")\n",
        "combined_df = pd.DataFrame(combined_sheet.get_all_records())\n",
        "\n",
        "\n",
        "if meeting_uid != \"\":\n",
        "  meeting_encoded_uid = double_encode_uuid(meeting_uid)\n",
        "  participants_list = get_participants_list(meeting_encoded_uid)\n",
        "\n",
        "if len(participants_list)>0:\n",
        "  participants_df = get_participants_df(participants_list,event_name,[],[],[])\n",
        "\n",
        "if combined_df.empty:\n",
        "  print(\"its empty\")\n",
        "  combined_sheet.update([participants_df.columns.values.tolist()] + participants_df.values.tolist())\n",
        "else:\n",
        "  final_df = pd.concat([combined_df, participants_df], axis=0)\n",
        "  combined_sheet.update([final_df.columns.values.tolist()] + final_df.values.tolist())\n",
        "\n",
        "worksheet.update([participants_df.columns.values.tolist()] + participants_df.values.tolist())\n"
      ],
      "metadata": {
        "colab": {
          "base_uri": "https://localhost:8080/"
        },
        "id": "vmrdT9X9I1td",
        "outputId": "b6055e5b-9fe1-4094-839d-6c43d210e4ea"
      },
      "execution_count": null,
      "outputs": [
        {
          "output_type": "execute_result",
          "data": {
            "text/plain": [
              "{'spreadsheetId': '17qtqgcYSLrlOs3YA0Lzn_Fk710PFL9qUO1wtdyBoCpo',\n",
              " 'updatedCells': 760,\n",
              " 'updatedColumns': 8,\n",
              " 'updatedRange': 'CHN_Day_2!A1:H95',\n",
              " 'updatedRows': 95}"
            ]
          },
          "metadata": {},
          "execution_count": 9
        }
      ]
    }
  ]
}