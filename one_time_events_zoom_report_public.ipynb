{
  "nbformat": 4,
  "nbformat_minor": 0,
  "metadata": {
    "colab": {
      "name": "one_time_events_zoom_report_public.ipynb",
      "provenance": [],
      "collapsed_sections": [],
      "authorship_tag": "ABX9TyOUT3/vyzFWsjtpGExPV6ot",
      "include_colab_link": true
    },
    "kernelspec": {
      "name": "python3",
      "display_name": "Python 3"
    },
    "language_info": {
      "name": "python"
    }
  },
  "cells": [
    {
      "cell_type": "markdown",
      "metadata": {
        "id": "view-in-github",
        "colab_type": "text"
      },
      "source": [
        "<a href=\"https://colab.research.google.com/github/kgautam2103/zoom_participant_list_public/blob/main/one_time_events_zoom_report_public.ipynb\" target=\"_parent\"><img src=\"https://colab.research.google.com/assets/colab-badge.svg\" alt=\"Open In Colab\"/></a>"
      ]
    },
    {
      "cell_type": "code",
      "metadata": {
        "id": "nPlc9kjAZDnR"
      },
      "source": [
        "# when you run this code, you will get a link below\n",
        "#Follow the link, copy the code, paste it in the box and then press Enter on the keyboard.\n",
        "#This will authenticate you and will allow you to interact with Google Sheets and other Google apps in your notebook.\n",
        "from google.colab import auth\n",
        "auth.authenticate_user()\n",
        "import gspread\n",
        "from oauth2client.client import GoogleCredentials\n",
        "gc = gspread.authorize(GoogleCredentials.get_application_default())"
      ],
      "execution_count": null,
      "outputs": []
    },
    {
      "cell_type": "code",
      "metadata": {
        "colab": {
          "base_uri": "https://localhost:8080/"
        },
        "id": "lLFgxXB7ZHlT",
        "outputId": "feb805e3-7220-44fc-f7e1-1abf5eab88ac"
      },
      "source": [
        "from google.colab import drive\n",
        "drive.mount(\"mnt\",force_remount=True)\n",
        "%run '/content/mnt/MyDrive/Colab Notebooks/zoom_participant_list_utility_functions.ipynb'\n"
      ],
      "execution_count": null,
      "outputs": [
        {
          "output_type": "stream",
          "name": "stdout",
          "text": [
            "Mounted at mnt\n"
          ]
        }
      ]
    },
    {
      "cell_type": "code",
      "metadata": {
        "id": "skvB4pFpZJoA",
        "colab": {
          "base_uri": "https://localhost:8080/"
        },
        "outputId": "8556db5e-2738-44f6-e346-1ccb271fa997"
      },
      "source": [
        "import requests\n",
        "import random\n",
        "import json\n",
        "import pytz\n",
        "import pandas as pd\n",
        "import numpy as np\n",
        "from datetime import datetime,timedelta\n",
        "import gspread\n",
        "import re\n",
        "from pandas import ExcelWriter\n",
        "from google.colab import files\n",
        "from gspread_dataframe import set_with_dataframe\n",
        "from pandas import json_normalize\n",
        "from urllib.parse import urlencode\n",
        "!pip install python-Levenshtein\n",
        "!pip install fuzzywuzzy\n",
        "from fuzzywuzzy import process\n",
        "#!pip install gspread-pandas\n",
        "#from gspread_pandas import Spread, Client\n"
      ],
      "execution_count": null,
      "outputs": [
        {
          "output_type": "stream",
          "name": "stdout",
          "text": [
            "Requirement already satisfied: python-Levenshtein in /usr/local/lib/python3.7/dist-packages (0.12.2)\n",
            "Requirement already satisfied: setuptools in /usr/local/lib/python3.7/dist-packages (from python-Levenshtein) (57.4.0)\n",
            "Requirement already satisfied: fuzzywuzzy in /usr/local/lib/python3.7/dist-packages (0.18.0)\n"
          ]
        }
      ]
    },
    {
      "cell_type": "code",
      "source": [
        "report_datetime= input(\"enter the report datetime(UTC) like 2021-07-11T02 : \")\n",
        "report_date = report_datetime[:-3]\n",
        "event_name = input(\"enter the event name like NA_NYE_2022 : \")\n",
        "\n",
        "meetingID = '9181716151'\n",
        "page_size ='300'\n",
        "base_url = 'https://api.zoom.us/v2/'\n",
        "past_meetings = base_url+'/past_meetings/'\n",
        "poll1_id= 'l1gX0McLRc6mxffk37nnIw'\n",
        "poll2_id = 'mlE7n7f3TQ-qgXoF--MKPQ'\n",
        "\n",
        "\n",
        "#to get result for the last held meeting\n",
        "report_meetings = base_url+'report/meetings/'\n",
        "get_meeting_url = report_meetings+meetingID\n",
        "\n",
        "get_meeting_url = past_meetings+meetingID+'/instances'\n",
        "get_user_url = base_url+'users/'\n",
        "\n",
        "#auth token for zoom account admin user\n",
        "auth_token = ''\n",
        "\n",
        "authorization = 'Bearer ' + auth_token\n",
        "auth_headers = {\n",
        "    'Authorization': authorization,\n",
        "    'Content-Type': 'application/json'\n",
        "    }\n",
        "\n",
        "meeting_id_response = requests.get(get_meeting_url,headers=auth_headers)\n",
        "\n",
        "\n",
        "if meeting_id_response.status_code == 200:\n",
        "\n",
        "  for x in meeting_id_response.json()['meetings']:\n",
        "    if report_datetime in str(x['start_time']):\n",
        "      meeting_uid = str(x['uuid'])\n",
        "      print(x)"
      ],
      "metadata": {
        "colab": {
          "base_uri": "https://localhost:8080/"
        },
        "id": "BHk7htKSbq2b",
        "outputId": "e4b4b275-5949-4516-d0dc-152ae8485dc3"
      },
      "execution_count": null,
      "outputs": [
        {
          "output_type": "stream",
          "name": "stdout",
          "text": [
            "enter the report datetime(UTC) like 2021-07-11T02 : 2021-12-31T10\n",
            "enter the event name like NA_NYE_2022 : APAC_NYE_2022\n",
            "{'uuid': 'J5cvhCo2ROibo695X6sFdg==', 'start_time': '2021-12-31T10:35:56Z'}\n"
          ]
        }
      ]
    },
    {
      "cell_type": "code",
      "source": [
        "current_ts = datetime.now().strftime('%Y%m%d%H%M%S')\n",
        "output_xlsx = current_ts+'_participants_list_'+report_date+\".xlsx\"\n",
        "\n",
        "wb = gc.open_by_url('https://docs.google.com/spreadsheets/d/1WhACIU6F7i9VwDxXoqzx6GEwutQI5HpIYl4v6H49-7Q/')\n",
        "\n",
        "input_sheet = wb.worksheet('sahajyogis')\n",
        "final_combined_sheet = wb.worksheet('combined_sheet')\n",
        "rolling_3week_sheet = wb.worksheet('Rolling3Weekend')\n",
        "weekend_archive_sheet = wb.worksheet('WeekendArchive')\n",
        "Sideroom_sheet = wb.worksheet('regular_sideroom')\n",
        "move2side_sheet = wb.worksheet('move2side')\n",
        "updated_sideroom_sheet = wb.worksheet('updated_sideroom')\n",
        "month_3_archive_frequency_sheet = wb.worksheet('3month_archive_frequency')\n",
        "\n",
        "inputdata_df = read_worksheet(input_sheet,['id','name','email'])\n",
        "rolling_3week_df = read_worksheet(rolling_3week_sheet,['event','event_date','id','name', 'user_email', 'join_time', 'leave_time', 'duration'])\n",
        "weekend_archive_df = read_worksheet(weekend_archive_sheet,['event','event_date','id','name', 'user_email', 'join_time', 'leave_time', 'duration'])\n",
        "sideroom_data_df = read_worksheet(Sideroom_sheet,['name'])\n",
        "\n",
        "\n",
        "report_datetime = datetime.strptime(report_date, '%Y-%m-%d')\n",
        "report_datetime_3week_before = report_datetime-timedelta(days=15)\n",
        "report_datetime_3month_before = report_datetime-timedelta(days=90)\n",
        "\n",
        "ref_id_list = list(filter(None, inputdata_df['id'].tolist()))\n",
        "ref_name_list = list(filter(None, inputdata_df['name'].tolist()))\n",
        "ref_name_list = [i.lower() for i in ref_name_list]\n",
        "ref_email_list = list(filter(None, inputdata_df['email'].tolist()))\n",
        "ref_email_list = [i.lower() for i in ref_email_list]\n",
        "\n",
        "\n",
        "if meeting_uid != \"\":\n",
        "  encoded_uid = double_encode_uuid(meeting_uid)\n",
        "  participants_list = get_participants_list(encoded_uid)\n",
        "  #poll_answer_df = get_poll_answer_df(encoded_uid)\n",
        "  #poll1_df = get_poll1_df(poll_answer_df,poll1_id)\n",
        "  #poll2_df = get_poll2_df(poll_answer_df,poll2_id)\n",
        "\n",
        "if len(participants_list)>0:\n",
        "  participants_df = get_participants_df(participants_list,event_name,ref_id_list,ref_name_list,ref_email_list)\n",
        "\n",
        "\n",
        "final_combined_df = participants_df\n",
        "final_combined_sheet.clear()\n",
        "set_with_dataframe(final_combined_sheet, final_combined_df)\n",
        "\n",
        "#if move2side_input == 'true':\n",
        "rolling_3week_df_final = get_rolling_3week_df(rolling_3week_df,final_combined_df)\n",
        "weekend_archive_df_final = get_weekend_archive_df(weekend_archive_df,final_combined_df)\n",
        "\n",
        "weekend_archive_sheet.clear()\n",
        "rolling_3week_sheet.clear()\n",
        "#set_with_dataframe(rolling3week_output_sheet, rolling_3week_df_final)\n",
        "set_with_dataframe(weekend_archive_sheet,weekend_archive_df_final)\n",
        "set_with_dataframe(rolling_3week_sheet, rolling_3week_df_final)\n",
        "\n",
        "weekend_archive_df_final_filtered_3m_frequency = get_weekend_archive_df_final_filtered_3m(weekend_archive_df_final)\n",
        "set_with_dataframe(month_3_archive_frequency_sheet,weekend_archive_df_final_filtered_3m_frequency)\n",
        "\n",
        "archive_group_df_max_date_details = get_archive_group_df_max_date_details(weekend_archive_df_final)\n",
        "archive_name_list=archive_group_df_max_date_details['name'].tolist()\n",
        "archive_name_list_new = [i for i in archive_name_list if len(i) > 1]\n",
        "matched_name_list=[]\n",
        "for index,row in sideroom_data_df.iterrows():\n",
        "  highest_match = process.extractOne(row['name'],archive_name_list_new)\n",
        "  matched_name_list.append([row['name'],highest_match[0],highest_match[1]])\n",
        "\n",
        "updated_sideroom_details_df = get_updated_sideroom_details(matched_name_list,archive_group_df_max_date_details)\n",
        "\n",
        "updated_sideroom_sheet.clear()\n",
        "set_with_dataframe(updated_sideroom_sheet, updated_sideroom_details_df)\n",
        "#set_with_dataframe(updated_regular_output_sheet, updated_sideroom_details_df)\n",
        "\n",
        "final_max_count_filtered = pivot_rolling_3week_df(rolling_3week_df_final)\n",
        "\n",
        "regular_matched_name_list=updated_sideroom_details_df['name'].tolist()\n",
        "regular_matched_name_list_new = [i for i in regular_matched_name_list if len(i) > 1]\n",
        "move2side_name_list=[]\n",
        "for index,row in final_max_count_filtered.iterrows():\n",
        "  highest_match_move2side = process.extractOne(row['name'],regular_matched_name_list_new)\n",
        "  move2side_name_list.append([row['name'],highest_match_move2side[0],highest_match_move2side[1]])\n",
        "\n",
        "move2side_final = get_move2side_final(move2side_name_list,final_max_count_filtered)\n",
        "\n",
        "email_name_ref_df = get_email_name_ref_df(weekend_archive_df_final)\n",
        "\n",
        "move2side_final_df_with_email = pd.merge(move2side_final,email_name_ref_df,how='left',on='name')\n",
        "move2side_final_df_with_email.drop_duplicates(inplace=True)\n",
        "\n",
        "move2side_sheet.clear()\n",
        "set_with_dataframe(move2side_sheet, move2side_final_df_with_email)\n",
        "#set_with_dataframe(move2side_output_sheet,move2side_final_df_with_email)\n",
        "\n",
        "with ExcelWriter(output_xlsx) as writer:\n",
        "  final_combined_df.to_excel(writer, sheet_name=\"final_combined\")\n",
        "  rolling_3week_df_final.to_excel(writer, sheet_name=\"3weekRollingWeekend\")\n",
        "  move2side_final_df_with_email.to_excel(writer, sheet_name=\"move2side\")\n",
        "  updated_sideroom_details_df.to_excel(writer, sheet_name=\"updated_regular_sideroom\")\n",
        "#poll1_df.to_excel(writer, sheet_name=\"poll1\")\n",
        "#poll2_df.to_excel(writer, sheet_name=\"poll2\")\n",
        "\n",
        "\n",
        "files.download(output_xlsx)"
      ],
      "metadata": {
        "colab": {
          "base_uri": "https://localhost:8080/",
          "height": 277
        },
        "id": "loFTz9O7dEGS",
        "outputId": "5f53966a-4a37-476c-87a8-b0b53e276bec"
      },
      "execution_count": null,
      "outputs": [
        {
          "output_type": "stream",
          "name": "stderr",
          "text": [
            "/usr/local/lib/python3.7/dist-packages/pandas/core/frame.py:4174: SettingWithCopyWarning: \n",
            "A value is trying to be set on a copy of a slice from a DataFrame\n",
            "\n",
            "See the caveats in the documentation: https://pandas.pydata.org/pandas-docs/stable/user_guide/indexing.html#returning-a-view-versus-a-copy\n",
            "  errors=errors,\n",
            "/usr/local/lib/python3.7/dist-packages/pandas/core/frame.py:4389: SettingWithCopyWarning: \n",
            "A value is trying to be set on a copy of a slice from a DataFrame\n",
            "\n",
            "See the caveats in the documentation: https://pandas.pydata.org/pandas-docs/stable/user_guide/indexing.html#returning-a-view-versus-a-copy\n",
            "  method=method,\n",
            "/usr/local/lib/python3.7/dist-packages/ipykernel_launcher.py:6: SettingWithCopyWarning: \n",
            "A value is trying to be set on a copy of a slice from a DataFrame\n",
            "\n",
            "See the caveats in the documentation: https://pandas.pydata.org/pandas-docs/stable/user_guide/indexing.html#returning-a-view-versus-a-copy\n",
            "  \n"
          ]
        },
        {
          "output_type": "display_data",
          "data": {
            "application/javascript": [
              "\n",
              "    async function download(id, filename, size) {\n",
              "      if (!google.colab.kernel.accessAllowed) {\n",
              "        return;\n",
              "      }\n",
              "      const div = document.createElement('div');\n",
              "      const label = document.createElement('label');\n",
              "      label.textContent = `Downloading \"${filename}\": `;\n",
              "      div.appendChild(label);\n",
              "      const progress = document.createElement('progress');\n",
              "      progress.max = size;\n",
              "      div.appendChild(progress);\n",
              "      document.body.appendChild(div);\n",
              "\n",
              "      const buffers = [];\n",
              "      let downloaded = 0;\n",
              "\n",
              "      const channel = await google.colab.kernel.comms.open(id);\n",
              "      // Send a message to notify the kernel that we're ready.\n",
              "      channel.send({})\n",
              "\n",
              "      for await (const message of channel.messages) {\n",
              "        // Send a message to notify the kernel that we're ready.\n",
              "        channel.send({})\n",
              "        if (message.buffers) {\n",
              "          for (const buffer of message.buffers) {\n",
              "            buffers.push(buffer);\n",
              "            downloaded += buffer.byteLength;\n",
              "            progress.value = downloaded;\n",
              "          }\n",
              "        }\n",
              "      }\n",
              "      const blob = new Blob(buffers, {type: 'application/binary'});\n",
              "      const a = document.createElement('a');\n",
              "      a.href = window.URL.createObjectURL(blob);\n",
              "      a.download = filename;\n",
              "      div.appendChild(a);\n",
              "      a.click();\n",
              "      div.remove();\n",
              "    }\n",
              "  "
            ],
            "text/plain": [
              "<IPython.core.display.Javascript object>"
            ]
          },
          "metadata": {}
        },
        {
          "output_type": "display_data",
          "data": {
            "application/javascript": [
              "download(\"download_770cba7a-802a-4045-bda0-3a2f684d2dea\", \"20220113043545_participants_list_2021-12-31.xlsx\", 74887)"
            ],
            "text/plain": [
              "<IPython.core.display.Javascript object>"
            ]
          },
          "metadata": {}
        }
      ]
    }
  ]
}